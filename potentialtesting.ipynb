{
 "cells": [
  {
   "cell_type": "code",
   "execution_count": 1,
   "metadata": {},
   "outputs": [],
   "source": [
    "import numpy as np\n",
    "import matplotlib.pyplot as plt\n",
    "\n",
    "from scipy.fft import fft2, ifft2, ifftshift, fftshift\n",
    "\n",
    "from classicalfield_orig import FiniteTempGPE as gpe"
   ]
  },
  {
   "cell_type": "code",
   "execution_count": null,
   "metadata": {},
   "outputs": [
    {
     "name": "stdout",
     "output_type": "stream",
     "text": [
      "No vortices to be spawned\n",
      "Total Imag Time:  1.3922040462493896\n",
      "kmax:  4.0212385965949355\n",
      "T:  4.042589962686201\n"
     ]
    }
   ],
   "source": [
    "# test out to see if the new potential is good \n",
    "g = gpe(npoints = 2**6, numImagSteps = 2000, numRealSteps = 2250000, dtcoef = 0.0005, boxthickness = 1, Nsamples = 1, runAnim = True, animFileName = 'testparams_higherwell.mp4', Tfact = 1/2, dst = False)"
   ]
  }
 ],
 "metadata": {
  "kernelspec": {
   "display_name": "base",
   "language": "python",
   "name": "python3"
  },
  "language_info": {
   "codemirror_mode": {
    "name": "ipython",
    "version": 3
   },
   "file_extension": ".py",
   "mimetype": "text/x-python",
   "name": "python",
   "nbconvert_exporter": "python",
   "pygments_lexer": "ipython3",
   "version": "3.8.20"
  }
 },
 "nbformat": 4,
 "nbformat_minor": 2
}
